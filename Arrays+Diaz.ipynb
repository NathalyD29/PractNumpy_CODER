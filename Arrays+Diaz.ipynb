{
 "cells": [
  {
   "cell_type": "code",
   "execution_count": 1,
   "id": "db7cdce1-e4df-4c7b-a33c-171e8c960b58",
   "metadata": {},
   "outputs": [],
   "source": [
    "import numpy as np"
   ]
  },
  {
   "cell_type": "code",
   "execution_count": 7,
   "id": "011db23b-21cf-448e-980c-a5309c0a4e37",
   "metadata": {},
   "outputs": [
    {
     "data": {
      "text/plain": [
       "array([0.73130902, 0.89814455, 0.72335294, 0.31689251, 0.78670203,\n",
       "       0.36956765, 0.5074676 , 0.22093153, 0.00819339, 0.09979878,\n",
       "       0.8237219 , 0.38790677, 0.44139923, 0.08041459, 0.41180519,\n",
       "       0.79602633, 0.76618299, 0.35094447, 0.60469426, 0.16080502,\n",
       "       0.68086704, 0.04325929, 0.34520368, 0.50666273, 0.99182115,\n",
       "       0.79983536, 0.30486585, 0.25989119, 0.38533486, 0.72890292,\n",
       "       0.680845  , 0.8524169 , 0.68984919, 0.44902235, 0.1366176 ,\n",
       "       0.39409527, 0.72686058, 0.0344156 , 0.28643862, 0.63563447,\n",
       "       0.34212154, 0.07201302, 0.00970706, 0.83140995, 0.07224123,\n",
       "       0.21397745, 0.50489242, 0.89857742, 0.61224309, 0.6218338 ,\n",
       "       0.44641287, 0.32046367, 0.89004379, 0.32012558, 0.77593164,\n",
       "       0.28029748, 0.21539049, 0.1066784 , 0.02509485, 0.04134443,\n",
       "       0.68330966, 0.0770579 , 0.27656856, 0.88780667, 0.97031824,\n",
       "       0.18495935, 0.83896951, 0.63211063, 0.35831356, 0.32142949,\n",
       "       0.57255952, 0.56654802, 0.85262127, 0.57229365, 0.40283994,\n",
       "       0.23323567, 0.7090619 , 0.74746609, 0.08748703, 0.97528792,\n",
       "       0.93512266, 0.39023553, 0.00454729, 0.94275875, 0.90994169,\n",
       "       0.6746665 , 0.01585636, 0.1290511 , 0.32309173, 0.57802876,\n",
       "       0.17281862, 0.25525615, 0.47815796, 0.8386281 , 0.21412213,\n",
       "       0.01020599, 0.25096078, 0.99076184, 0.35200789, 0.05026186])"
      ]
     },
     "execution_count": 7,
     "metadata": {},
     "output_type": "execute_result"
    }
   ],
   "source": [
    "#Ejercicio 1\n",
    "datos = np.random.random(100) #Generamos un vector con cien elementos aleatorios\n",
    "datos"
   ]
  },
  {
   "cell_type": "code",
   "execution_count": 57,
   "id": "ca452635-fcd4-4f06-8d36-631986dcfcf0",
   "metadata": {},
   "outputs": [
    {
     "data": {
      "text/plain": [
       "('La mediana de los elementos es ', 0.4648662688824263)"
      ]
     },
     "execution_count": 57,
     "metadata": {},
     "output_type": "execute_result"
    }
   ],
   "source": [
    "med = datos.mean() #Calculamos la media de los elementos\n",
    "\"La mediana de los elementos es \", med"
   ]
  },
  {
   "cell_type": "code",
   "execution_count": 59,
   "id": "1b141208-e210-4791-9e66-6efeab05bc1e",
   "metadata": {},
   "outputs": [
    {
     "name": "stdout",
     "output_type": "stream",
     "text": [
      "El factorial dentro de una rango de elementos es:\n",
      "154.0\n",
      "6749977114.0\n",
      "1401602636314.0\n"
     ]
    }
   ],
   "source": [
    "#Ejercicio 2.1\n",
    "#Calcular factorial de de una serie de números\n",
    "#Definimos una función que genera una serie y luego calcula el facturial\n",
    "import scipy.special\n",
    "def ejercicio(num):\n",
    "    serie = np.arange(num+1)\n",
    "    fact = scipy.special.factorial(serie)\n",
    "    Total = np.sum(fact)\n",
    "    return Total\n",
    "print(\"El factorial dentro de una rango de elementos es:\")\n",
    "print(ejercicio(5))\n",
    "print(ejercicio(12.5))\n",
    "print(ejercicio(15))"
   ]
  },
  {
   "cell_type": "code",
   "execution_count": 55,
   "id": "f4dd3188-fd60-41ec-8fe0-ad2a178c1318",
   "metadata": {},
   "outputs": [
    {
     "name": "stdout",
     "output_type": "stream",
     "text": [
      "35\n",
      "55\n"
     ]
    }
   ],
   "source": [
    "#Ejercicio 2.2\n",
    "#Suma de una serie donde siempre el primero es menor que el segundo\n",
    "def sumar(x,y):\n",
    "    calc = np.arange(x,y+1)\n",
    "    fin = np.sum(calc)\n",
    "    return fin\n",
    "\n",
    "print(sumar(2,8))\n",
    "print(sumar(1,10))\n",
    "    "
   ]
  },
  {
   "cell_type": "code",
   "execution_count": 81,
   "id": "69aa9640-4623-4071-869d-21cf0d1b3b20",
   "metadata": {},
   "outputs": [
    {
     "name": "stdout",
     "output_type": "stream",
     "text": [
      "float64\n"
     ]
    }
   ],
   "source": [
    "#Ejercicio 3\n",
    "#Calcular y comparar media y mediana de los sueldos netos\n",
    "import pandas as pd\n",
    "\n",
    "inf = pd.read_excel(\"Salarios Openqube.xlsx\") #Importamos el archivo con pandas\n",
    "#data = inf.to_dict(\"list\")\n",
    "inf[\"Salario mensual NETO (en tu moneda local)\"] = pd.to_numeric(inf[\"Salario mensual NETO (en tu moneda local)\"], errors = \"coerce\")\n",
    "#Transformamos los datos a numéricos\n",
    "\n",
    "#media = np.mean(salario)\n",
    "\n"
   ]
  },
  {
   "cell_type": "code",
   "execution_count": 92,
   "id": "7ebaacdf-558a-4746-839d-5f2c9ce6aa1c",
   "metadata": {},
   "outputs": [
    {
     "name": "stdout",
     "output_type": "stream",
     "text": [
      "19315670.668239187\n",
      "76000.0\n"
     ]
    }
   ],
   "source": [
    "salario = inf[\"Salario mensual NETO (en tu moneda local)\"].copy(deep=True) #Hacemos una copia de la columna de Slario mensual neto en la varianle Salario\n",
    "media = np.mean(salario) #Calculamos la media utilizando numpy\n",
    "print(media)\n",
    "mediana = salario.median()\n",
    "print(mediana)\n"
   ]
  },
  {
   "cell_type": "code",
   "execution_count": 93,
   "id": "13b961fe-4d50-44d7-b6b4-451a94143a84",
   "metadata": {},
   "outputs": [
    {
     "name": "stdout",
     "output_type": "stream",
     "text": [
      "La media del Salario mensual neto es:  19315670.668239187 y es mayor a la mediana de los salarios netos que tiene un valor de:  76000.0\n"
     ]
    }
   ],
   "source": [
    "#Comparamos los resultados\n",
    "if media > mediana:\n",
    "    print(\"La media del Salario mensual neto es: \", media, \"y es mayor a la mediana de los salarios netos que tiene un valor de: \", mediana)\n",
    "elif media < mediana:\n",
    "    primt(\"La mediana del Salario mensual neto es: \", mediana, \"y es mayor a la media de los salarios netos que tiene un valor de: \", media)\n",
    "else:\n",
    "    (\"La media del Salario mensual neto es: \", media, \"y tiene un valor igual a la mediana de\", mediana)"
   ]
  }
 ],
 "metadata": {
  "kernelspec": {
   "display_name": "Python 3",
   "language": "python",
   "name": "python3"
  },
  "language_info": {
   "codemirror_mode": {
    "name": "ipython",
    "version": 3
   },
   "file_extension": ".py",
   "mimetype": "text/x-python",
   "name": "python",
   "nbconvert_exporter": "python",
   "pygments_lexer": "ipython3",
   "version": "3.8.8"
  }
 },
 "nbformat": 4,
 "nbformat_minor": 5
}
